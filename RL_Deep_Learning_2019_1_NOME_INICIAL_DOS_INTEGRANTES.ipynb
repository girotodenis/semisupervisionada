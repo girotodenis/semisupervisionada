{
  "nbformat": 4,
  "nbformat_minor": 0,
  "metadata": {
    "colab": {
      "name": "RL_Deep_Learning_2019-1_NOME_INICIAL_DOS_INTEGRANTES.ipynb",
      "provenance": [],
      "collapsed_sections": [],
      "include_colab_link": true
    },
    "kernelspec": {
      "name": "python3",
      "display_name": "Python 3"
    }
  },
  "cells": [
    {
      "cell_type": "markdown",
      "metadata": {
        "id": "view-in-github",
        "colab_type": "text"
      },
      "source": [
        "<a href=\"https://colab.research.google.com/github/girotodenis/semisupervisionada/blob/master/RL_Deep_Learning_2019_1_NOME_INICIAL_DOS_INTEGRANTES.ipynb\" target=\"_parent\"><img src=\"https://colab.research.google.com/assets/colab-badge.svg\" alt=\"Open In Colab\"/></a>"
      ]
    },
    {
      "cell_type": "markdown",
      "metadata": {
        "id": "HVTqvLaQRzch",
        "colab_type": "text"
      },
      "source": [
        "# Lista de Exercícios - Reinforcement Learning"
      ]
    },
    {
      "cell_type": "markdown",
      "metadata": {
        "id": "5_uFBUBgTl_z",
        "colab_type": "text"
      },
      "source": [
        "NOME COMPLETO DOS INTEGRANTES DO GRUPO: Denis Silva Giroto\n",
        "\n",
        "MATRÍCULAS DOS INTEGRANTES DO GRUPO:"
      ]
    },
    {
      "cell_type": "markdown",
      "metadata": {
        "id": "xDsxP3khToXi",
        "colab_type": "text"
      },
      "source": [
        "**AVISOS**:\n",
        "\n",
        "- **Mantenha a estrutura de enunciados e células de resposta da lista original na lista a ser entregue.**\n",
        "- **Todas as análises e justificativas solicitadas devem estar acompanhadas de códigos e plots realizados.**\n",
        "- **As listas deverão ser compartilhadas no e-mail nguerinjr@gmail.com .**"
      ]
    },
    {
      "cell_type": "markdown",
      "metadata": {
        "id": "LRDidH5uTsky",
        "colab_type": "text"
      },
      "source": [
        "# EXERCÍCIOS"
      ]
    },
    {
      "cell_type": "markdown",
      "metadata": {
        "id": "BYgtUdIxTz7I",
        "colab_type": "text"
      },
      "source": [
        "## EXERCÍCIO 1\n",
        "\n",
        "Refere-se aos exemplos de código apresentados em sala de aula."
      ]
    },
    {
      "cell_type": "markdown",
      "metadata": {
        "id": "_lHNEUf9T7V2",
        "colab_type": "text"
      },
      "source": [
        "### 1.1 \n"
      ]
    },
    {
      "cell_type": "markdown",
      "metadata": {
        "id": "h68sx73JX8GP",
        "colab_type": "text"
      },
      "source": [
        "\n",
        "Com o passar as iterações / experiências do agente, as correções aplicadas à função de valor tendem a cair. Nos exemplos, essa variação era denotada por um delta. Dessa maneira, pode ser mais interessante eficiente impor uma restrição com um delta, que denota a convergência do algoritmo, ao invés de obedecer cegamente ao número de iterações específicados.\n",
        "\n",
        "Faça uma versão do algoritmo de programação dinâmica e do de Monte Carlo que recebe um número desejado de iterações mas que tem como critério de convergência um delta, testado com relação a limiar de parada. Rode experimentos variando o limiar de delta e exiba os resultados da política greedy obtida."
      ]
    },
    {
      "cell_type": "code",
      "metadata": {
        "id": "q-JMlM5gTC6g",
        "colab_type": "code",
        "colab": {}
      },
      "source": [
        "# Células de código aqui"
      ],
      "execution_count": 0,
      "outputs": []
    },
    {
      "cell_type": "code",
      "metadata": {
        "id": "eUIRT6oww07Q",
        "colab_type": "code",
        "colab": {}
      },
      "source": [
        "import numpy as np\n",
        "from tqdm import tqdm\n",
        "import matplotlib.pyplot as plt\n",
        "import random"
      ],
      "execution_count": 0,
      "outputs": []
    },
    {
      "cell_type": "markdown",
      "metadata": {
        "id": "VG59f7SsxQ74",
        "colab_type": "text"
      },
      "source": [
        "1 - Policy Evaluation"
      ]
    },
    {
      "cell_type": "code",
      "metadata": {
        "id": "sZnTFgzBw16l",
        "colab_type": "code",
        "colab": {}
      },
      "source": [
        "gamma = 1\n",
        "reward_value = -1 # Exceto nos estados terminais\n",
        "grid_size = 4\n",
        "terminal_states = [[0,0], [grid_size-1, grid_size-1]] # Estados terminais nas pontas do grid\n",
        "actions = [[-1, 0], [1, 0], [0, 1], [0, -1]] # Deslocamento das ações: baixo, cima, direita, esquerda\n",
        "iterations = 1000"
      ],
      "execution_count": 0,
      "outputs": []
    },
    {
      "cell_type": "code",
      "metadata": {
        "id": "7c8WJUmbxWoX",
        "colab_type": "code",
        "colab": {}
      },
      "source": [
        "def actionRewardFunction(init_positions, action):\n",
        "    \n",
        "    # Caso esteja no estado terminal, a recompensa é 0\n",
        "    if init_positions in terminal_states:\n",
        "        return init_positions, 0\n",
        "    \n",
        "    reward = reward_value\n",
        "    # Calcula a nova posição\n",
        "    final_positions = np.array(init_positions) + np.array(action)\n",
        "    # Se a nova posição tira o agente do grid, ele retorna ao estado anterior\n",
        "    if -1 in final_positions or 4 in final_positions: \n",
        "        final_positions = init_positions\n",
        "    \n",
        "    return final_positions, reward"
      ],
      "execution_count": 0,
      "outputs": []
    },
    {
      "cell_type": "code",
      "metadata": {
        "id": "Zq-QKc3ZxZN1",
        "colab_type": "code",
        "colab": {}
      },
      "source": [
        "value_map = np.zeros((grid_size, grid_size))\n",
        "states = [[i, j] for i in range(grid_size) for j in range(grid_size)]"
      ],
      "execution_count": 0,
      "outputs": []
    },
    {
      "cell_type": "code",
      "metadata": {
        "id": "8Ei1M5kQxcC6",
        "colab_type": "code",
        "colab": {
          "base_uri": "https://localhost:8080/",
          "height": 34
        },
        "outputId": "ca6d838d-4b7c-4ecb-e4bb-04b153d31ae7"
      },
      "source": [
        "deltas = []\n",
        "\n",
        "for it in range(iterations):\n",
        "\n",
        "    if(len(deltas)>0 and np.mean(deltas[-1])==0.0):\n",
        "      print('numero interacao',it) \n",
        "      break\n",
        "\n",
        "    copyvalue_map = np.copy(value_map)\n",
        "    deltaState = []\n",
        "    for state in states:\n",
        "        weightedRewards = 0\n",
        "        for action in actions:\n",
        "            final_positions, reward = actionRewardFunction(state, action)\n",
        "            # 1/len(actions) porque a política é uma distribuição uniforme\n",
        "            weightedRewards += (1/len(actions)) * (reward + gamma * value_map[final_positions[0], final_positions[1]])\n",
        "        # Pode ser utilizado para verificar o quanto há de mudança nos backups da policy iteration\n",
        "       \n",
        "        deltaState.append(np.abs(copyvalue_map[state[0], state[1]] - weightedRewards))\n",
        "        copyvalue_map[state[0], state[1]] = weightedRewards\n",
        "   \n",
        "    deltas.append(deltaState)\n",
        "    value_map = copyvalue_map\n",
        "\n"
      ],
      "execution_count": 75,
      "outputs": [
        {
          "output_type": "stream",
          "text": [
            "numero interacao 634\n"
          ],
          "name": "stdout"
        }
      ]
    },
    {
      "cell_type": "code",
      "metadata": {
        "id": "TUkcwaH5xfwW",
        "colab_type": "code",
        "colab": {
          "base_uri": "https://localhost:8080/",
          "height": 609
        },
        "outputId": "8408d3df-312b-4504-ff83-3656afc96172"
      },
      "source": [
        "plt.figure(figsize=(20, 10))\n",
        "mean_delta = np.mean(deltas, axis=1)\n",
        "plt.plot(mean_delta)\n"
      ],
      "execution_count": 76,
      "outputs": [
        {
          "output_type": "execute_result",
          "data": {
            "text/plain": [
              "[<matplotlib.lines.Line2D at 0x7f7718b3b828>]"
            ]
          },
          "metadata": {
            "tags": []
          },
          "execution_count": 76
        },
        {
          "output_type": "display_data",
          "data": {
            "image/png": "[encoded data removed]",
            "text/plain": [
              "<Figure size 1440x720 with 1 Axes>"
            ]
          },
          "metadata": {
            "tags": []
          }
        }
      ]
    },
    {
      "cell_type": "markdown",
      "metadata": {
        "id": "PoGlR0Yz4PmJ",
        "colab_type": "text"
      },
      "source": [
        "Exemplo 2 - Monte Carlo"
      ]
    },
    {
      "cell_type": "code",
      "metadata": {
        "id": "ENW8EKkUyiWb",
        "colab_type": "code",
        "colab": {}
      },
      "source": [
        "gamma = 0.6\n",
        "reward_value = -1\n",
        "grid_size = 4\n",
        "terminal_states = [[0,0], [grid_size-1, grid_size-1]]\n",
        "actions = [[-1, 0], [1, 0], [0, 1], [0, -1]]\n",
        "iterations = 10000"
      ],
      "execution_count": 0,
      "outputs": []
    },
    {
      "cell_type": "code",
      "metadata": {
        "id": "g0ugcHs94WJt",
        "colab_type": "code",
        "colab": {}
      },
      "source": [
        "V = np.zeros((grid_size, grid_size))\n",
        "returns = {(i, j):list() for i in range(grid_size) for j in range(grid_size)}\n",
        "deltas = {(i, j):list() for i in range(grid_size) for j in range(grid_size)}\n",
        "states = [[i, j] for i in range(grid_size) for j in range(grid_size)]\n"
      ],
      "execution_count": 0,
      "outputs": []
    },
    {
      "cell_type": "code",
      "metadata": {
        "id": "8J1KLfVi4Yd7",
        "colab_type": "code",
        "colab": {}
      },
      "source": [
        "def generateEpisode():\n",
        "    init_state = random.choice(states[1:-1])\n",
        "    episode = []\n",
        "    while True:\n",
        "        if list(init_state) in terminal_states:\n",
        "            return episode\n",
        "        action = random.choice(actions)\n",
        "        final_state = np.array(init_state) + np.array(action)\n",
        "        if -1 in list(final_state) or grid_size in list(final_state):\n",
        "            final_state = init_state\n",
        "        episode.append([list(init_state), action, reward_value, list(final_state)])\n",
        "        init_state = final_state"
      ],
      "execution_count": 0,
      "outputs": []
    },
    {
      "cell_type": "code",
      "metadata": {
        "id": "-FDQ9rTN4azb",
        "colab_type": "code",
        "colab": {
          "base_uri": "https://localhost:8080/",
          "height": 510
        },
        "outputId": "6d6692b3-88d0-4b88-c52e-368e14d58517"
      },
      "source": [
        "for it in range(iterations):\n",
        "    episode = generateEpisode()\n",
        "    G = 0\n",
        "\n",
        "    mediadelta = 1;\n",
        "    if(it>1):\n",
        "      ultimoserros = []\n",
        "      all_series = [list(x)[1:] for x in deltas.values()]\n",
        "      for posi in all_series:\n",
        "        if(len(posi)>0):\n",
        "          ultimoserros.append(posi[-1])\n",
        "      mediadelta = np.mean(ultimoserros)\n",
        "    \n",
        "    if(mediadelta<0.001):\n",
        "      print(\"total it\",it)\n",
        "      break\n",
        "\n",
        "    episode = episode[::-1]\n",
        "    for i, (initial_position, action, reward, final_position) in enumerate(episode):\n",
        "        G = gamma * G + reward # Usa a propriedade recursiva do horizonte descontado\n",
        "        # First-visit MC: só considera o retorno obtido se o estado não foi visitado\n",
        "        # Every-visit MC: considera todos os retornos obtidos em visitas a um único estado\n",
        "        if initial_position not in [x[0] for x in episode[len(episode)-i:]]:\n",
        "            idx = tuple(initial_position)\n",
        "            # Returns vai guardar o horizonte para este estado naquele momento\n",
        "            returns[idx].append(G)\n",
        "            new_value = np.average(returns[idx])\n",
        "            deltas[idx].append(np.abs(V[idx] - new_value))\n",
        "            V[idx] = new_value"
      ],
      "execution_count": 152,
      "outputs": [
        {
          "output_type": "stream",
          "text": [
            "\n",
            "Iteration 0\n",
            "[[0. 0. 0. 0.]\n",
            " [0. 0. 0. 0.]\n",
            " [0. 0. 0. 0.]\n",
            " [0. 0. 0. 0.]]\n",
            "\n",
            "\n",
            "Iteration 1\n",
            "[[ 0.     0.     0.     0.   ]\n",
            " [ 0.     0.     0.     0.   ]\n",
            " [ 0.     0.     0.    -1.684]\n",
            " [ 0.     0.     0.     0.   ]]\n",
            "\n",
            "\n",
            "Iteration 2\n",
            "[[ 0.     0.     0.     0.   ]\n",
            " [ 0.     0.     0.     0.   ]\n",
            " [ 0.     0.    -1.6   -1.684]\n",
            " [ 0.     0.    -1.     0.   ]]\n",
            "\n",
            "\n",
            "Iteration 500\n",
            "[[ 0.         -1.55756845 -2.22548252 -2.38964683]\n",
            " [-1.60617504 -2.12516831 -2.28803318 -2.15572797]\n",
            " [-2.2352144  -2.2789968  -2.15352968 -1.62052812]\n",
            " [-2.39411454 -2.20581261 -1.64708504  0.        ]]\n",
            "\n",
            "total it 575\n"
          ],
          "name": "stdout"
        }
      ]
    },
    {
      "cell_type": "code",
      "metadata": {
        "id": "HReqld3m7UHF",
        "colab_type": "code",
        "colab": {
          "base_uri": "https://localhost:8080/",
          "height": 592
        },
        "outputId": "bbf3c80d-d4a5-4294-d513-ffb2826e28d5"
      },
      "source": [
        "plt.figure(figsize=(20,10))\n",
        "all_series = [list(x)[:50] for x in deltas.values()]\n",
        "for series in all_series:\n",
        "    plt.plot(series)"
      ],
      "execution_count": 153,
      "outputs": [
        {
          "output_type": "display_data",
          "data": {
            "image/png": "[encoded data removed]",
            "text/plain": [
              "<Figure size 1440x720 with 1 Axes>"
            ]
          },
          "metadata": {
            "tags": []
          }
        }
      ]
    },
    {
      "cell_type": "markdown",
      "metadata": {
        "id": "7OHS4WzUxUPY",
        "colab_type": "text"
      },
      "source": [
        ""
      ]
    },
    {
      "cell_type": "markdown",
      "metadata": {
        "id": "G6QOVUHnYAXu",
        "colab_type": "text"
      },
      "source": [
        "### 1.2"
      ]
    },
    {
      "cell_type": "markdown",
      "metadata": {
        "id": "4DH-PDLnVx8v",
        "colab_type": "text"
      },
      "source": [
        "Implemente no exemplo de TD(0) uma estratégia epsilon-greedy, ao invés de uma escolha aleatória de ações. Para decidir qual a ação greedy em um determinado momento, é necessário considerar a maior função de valor nas redondezas de um estado.\n",
        "\n",
        "Faça experimentos variando o epsilon. Compare os resultados da política greedy após 10, 100, 500 e 1000 episódios, em cada um dos cenários. \n",
        "\n",
        "Compare esses resultados com os resultados de uma política greedy após 10, 100, 500 e 1000 episódios considerando o código original de exemplo.\n",
        "\n",
        "Responda com base nos experimentos e plots apresentados: qual o impacto do fator de exploração do agente ao usar o TD(0)?"
      ]
    },
    {
      "cell_type": "code",
      "metadata": {
        "id": "RMQLGugPTE9a",
        "colab_type": "code",
        "colab": {}
      },
      "source": [
        "# Células de código aqui"
      ],
      "execution_count": 0,
      "outputs": []
    },
    {
      "cell_type": "code",
      "metadata": {
        "id": "DqUS_3eH9uYT",
        "colab_type": "code",
        "colab": {}
      },
      "source": [
        "# parameters\n",
        "gamma = 0.1 # discounting rate\n",
        "reward_value = -1\n",
        "grid_size = 4\n",
        "alpha = 0.1 # (0,1] // stepSize\n",
        "terminal_states = [[0,0], [grid_size-1, grid_size-1]]\n",
        "actions = [[-1, 0], [1, 0], [0, 1], [0, -1]]\n",
        "iterations = 10000"
      ],
      "execution_count": 0,
      "outputs": []
    },
    {
      "cell_type": "code",
      "metadata": {
        "id": "Fwzz6w129xZ4",
        "colab_type": "code",
        "colab": {}
      },
      "source": [
        "V = np.zeros((grid_size, grid_size))\n",
        "returns = {(i, j):list() for i in range(grid_size) for j in range(grid_size)}\n",
        "deltas = {(i, j):list() for i in range(grid_size) for j in range(grid_size)}\n",
        "states = [[i, j] for i in range(grid_size) for j in range(grid_size)]"
      ],
      "execution_count": 0,
      "outputs": []
    },
    {
      "cell_type": "code",
      "metadata": {
        "id": "0rrOs0IB90fR",
        "colab_type": "code",
        "colab": {}
      },
      "source": [
        "def generateInitialState():\n",
        "    initial_state = random.choice(states[1:-1])\n",
        "    return tuple(initial_state)\n",
        "\n",
        "def generateNextAction():\n",
        "    return random.choice(actions)\n",
        "\n",
        "def takeAction(state, action):\n",
        "    if list(state) in terminal_states:\n",
        "        return 0, None\n",
        "    final_state = np.array(state) + np.array(action)\n",
        "    if -1 in list(final_state) or grid_size in list(final_state):\n",
        "        final_state = state\n",
        "    return reward_value, tuple(final_state)"
      ],
      "execution_count": 0,
      "outputs": []
    },
    {
      "cell_type": "code",
      "metadata": {
        "id": "nKH09SbQ921r",
        "colab_type": "code",
        "colab": {}
      },
      "source": [
        "for it in range(iterations):\n",
        "    initial_state = generateInitialState()\n",
        "\n",
        "    if it in [0, 1, 2, 9, 99, iterations-1]:\n",
        "        print(\"\\nIteration {}\".format(it))\n",
        "        print(V)\n",
        "        print(\"\")\n",
        "        \n",
        "    while True:\n",
        "        action = generateNextAction()\n",
        "        reward, final_state = takeAction(initial_state, action)\n",
        "        \n",
        "        if final_state is None:\n",
        "            break\n",
        "        \n",
        "        before =  V[initial_state]\n",
        "        V[initial_state] += alpha * (reward + gamma * V[final_state] - V[initial_state])\n",
        "        deltas[initial_state].append(float(np.abs(before - V[initial_state])))\n",
        "        \n",
        "        initial_state = final_state"
      ],
      "execution_count": 0,
      "outputs": []
    },
    {
      "cell_type": "code",
      "metadata": {
        "id": "1ohUUpee95Gz",
        "colab_type": "code",
        "colab": {}
      },
      "source": [
        "plt.figure(figsize=(20,10))\n",
        "all_series = [list(x)[:50] for x in deltas.values()]\n",
        "for series in all_series:\n",
        "    plt.plot(series)"
      ],
      "execution_count": 0,
      "outputs": []
    },
    {
      "cell_type": "markdown",
      "metadata": {
        "id": "5vc_fOfg95_G",
        "colab_type": "text"
      },
      "source": [
        "Respostas"
      ]
    },
    {
      "cell_type": "markdown",
      "metadata": {
        "id": "7FYuOLq3ZHUe",
        "colab_type": "text"
      },
      "source": [
        "## EXERCÍCIO 2\n",
        "\n",
        "Diz respeito aos exemplos teóricos formulados em sala de aula."
      ]
    },
    {
      "cell_type": "markdown",
      "metadata": {
        "id": "baGQJNykZLQX",
        "colab_type": "text"
      },
      "source": [
        "### 2.1"
      ]
    },
    {
      "cell_type": "markdown",
      "metadata": {
        "id": "YlMb8m5UZMQR",
        "colab_type": "text"
      },
      "source": [
        "Implemente o Sarsa para o exemplo do grid com o vento apresentado em sala de aula (ver exemplo e explicações detalhadas no livro referência). \n",
        "\n",
        "Lembrese: a diferença do Sars é que ao invés de usar a função valor-estado (função v), utiliza-se a função de estado-ação (função Q).\n",
        "\n",
        "Implemente uma estratégia epsilon-greedy e escolha os hiperparâmetros de forma a haver convergência do agente. Faça o experimento com 50, 100 e 1000 e 10000 episódios. Observe a política greedy do agente após esse número de episódios.\n",
        "\n",
        "Responda com base nos experimentos e plots: o agente consegue chegar de maneira interessante ao objetivo?"
      ]
    },
    {
      "cell_type": "code",
      "metadata": {
        "id": "01zATcObTFwi",
        "colab_type": "code",
        "colab": {}
      },
      "source": [
        "# Células de código aqui"
      ],
      "execution_count": 0,
      "outputs": []
    },
    {
      "cell_type": "markdown",
      "metadata": {
        "id": "9IQ9qSovaeXv",
        "colab_type": "text"
      },
      "source": [
        "### 2.2"
      ]
    },
    {
      "cell_type": "markdown",
      "metadata": {
        "id": "zBkH_7z7af2W",
        "colab_type": "text"
      },
      "source": [
        "Utilize o algoritmo de Q-learning para o cenário 2.1. Há diferença na política greedy após 50, 100, 1000 e 10000 episódios com relação aos resultados obtidos em 2.1?"
      ]
    },
    {
      "cell_type": "code",
      "metadata": {
        "id": "e9axgTMdTGWR",
        "colab_type": "code",
        "colab": {}
      },
      "source": [
        "# Células de código aqui"
      ],
      "execution_count": 0,
      "outputs": []
    },
    {
      "cell_type": "markdown",
      "metadata": {
        "id": "qtB3RrIJd19t",
        "colab_type": "text"
      },
      "source": [
        "### 2.3"
      ]
    },
    {
      "cell_type": "markdown",
      "metadata": {
        "id": "063L1VbDd4P3",
        "colab_type": "text"
      },
      "source": [
        "Considere o melhor resultado de 2.1 como baseline de comparação.\n",
        "\n",
        "Implemente agora o Sars no cenário **Windy Gridworld with King's Moves**, conforme especificado no Exercício 6.9 do livro base.\n",
        "\n",
        "Esse cenário é o mesmo windy gridworld mas, dessa vez, há oito possíveis ações: as usuais e as ações nas diagonais.\n",
        "\n",
        "Compare os resultados no grid nas mesmas circunstâncias. Responda com base nos experimentos e plots: ter a disposição mais ações ajuda a acelerar a convergência do algoritmo?"
      ]
    },
    {
      "cell_type": "code",
      "metadata": {
        "id": "Be-d6GWgTG7f",
        "colab_type": "code",
        "colab": {}
      },
      "source": [
        "# Células de código aqui"
      ],
      "execution_count": 0,
      "outputs": []
    },
    {
      "cell_type": "markdown",
      "metadata": {
        "id": "WaBMgTxDfFjH",
        "colab_type": "text"
      },
      "source": [
        "### 2.4"
      ]
    },
    {
      "cell_type": "markdown",
      "metadata": {
        "id": "JcAGWFPwfGBZ",
        "colab_type": "text"
      },
      "source": [
        "Considere o algoritmo de Q-learning. Dessa vez modele um cenário de **Stochastic Windy Gridworld** conforme apresentado no exerício 6.10 do livro base.\n",
        "\n",
        "Nesse cenário, o vento, ao invés de ter um impacto definido deterministicamente, tem um comportamento estocástico: pode mover o agente 1 célula para cima, 2 células para cima ou 1 célula para baixo. Cada uma dessas situações tem uma probabilidade 1/3 de acontecer.\n",
        "\n",
        "Por exemplo, se você está á direita do estado objetivo e escolhe a ação \"esquerda\", em 1/3 das vezes você terminará uma célula acima do objetivo, em 1/3 das vezes você terminará duas células acima do objetivo e em 1/3 das vezes você terminará 1 célula abaixo do objetivo."
      ]
    },
    {
      "cell_type": "code",
      "metadata": {
        "id": "DfZJx9L9THiJ",
        "colab_type": "code",
        "colab": {}
      },
      "source": [
        "# Células de código aqui"
      ],
      "execution_count": 0,
      "outputs": []
    },
    {
      "cell_type": "markdown",
      "metadata": {
        "id": "pZSCIgPUasub",
        "colab_type": "text"
      },
      "source": [
        "### 2.5"
      ]
    },
    {
      "cell_type": "markdown",
      "metadata": {
        "id": "y4eP-iYxauBa",
        "colab_type": "text"
      },
      "source": [
        "Implemente o cenário do \"The Cliff\", apresentado em sala de aula. Utilize tanto o Sars quanto o Q-learning. Faça comparações dos resultados com a política greedy do agente após 100, 1000 e 10000 episódios.\n",
        "\n",
        "OBS.: utilize uma estratégia epsilon-greedy para a dinâmica do agente. Especifique hiperparâmetros de forma a conseguir convergência do algoritmo."
      ]
    },
    {
      "cell_type": "code",
      "metadata": {
        "id": "ZVA177vrTIKy",
        "colab_type": "code",
        "colab": {}
      },
      "source": [
        "# Células de código aqui"
      ],
      "execution_count": 0,
      "outputs": []
    },
    {
      "cell_type": "markdown",
      "metadata": {
        "id": "XAxt9khQSjTJ",
        "colab_type": "text"
      },
      "source": [
        "# Exercício 3 <EM CONSTRUÇÃO>\n",
        "\n",
        "Uso de modelos de aprendizado por reforço profundo."
      ]
    },
    {
      "cell_type": "markdown",
      "metadata": {
        "id": "V11qeuJwSlQ-",
        "colab_type": "text"
      },
      "source": [
        "# Exercício 4 <EM CONSTRUÇÃO>\n",
        "\n",
        "Experimentos com autoencoders."
      ]
    }
  ]
}