{
  "nbformat": 4,
  "nbformat_minor": 0,
  "metadata": {
    "colab": {
      "name": "RL_Deep_Learning_2019-1_NOME_INICIAL_DOS_INTEGRANTES.ipynb",
      "provenance": [],
      "collapsed_sections": [],
      "include_colab_link": true
    },
    "kernelspec": {
      "name": "python3",
      "display_name": "Python 3"
    }
  },
  "cells": [
    {
      "cell_type": "markdown",
      "metadata": {
        "id": "view-in-github",
        "colab_type": "text"
      },
      "source": [
        "<a href=\"https://colab.research.google.com/github/girotodenis/semisupervisionada/blob/master/RL_Deep_Learning_2019_1_NOME_INICIAL_DOS_INTEGRANTES.ipynb\" target=\"_parent\"><img src=\"https://colab.research.google.com/assets/colab-badge.svg\" alt=\"Open In Colab\"/></a>"
      ]
    },
    {
      "cell_type": "markdown",
      "metadata": {
        "id": "HVTqvLaQRzch",
        "colab_type": "text"
      },
      "source": [
        "# Lista de Exercícios - Reinforcement Learning"
      ]
    },
    {
      "cell_type": "markdown",
      "metadata": {
        "id": "5_uFBUBgTl_z",
        "colab_type": "text"
      },
      "source": [
        "NOME COMPLETO DOS INTEGRANTES DO GRUPO: Denis Silva Giroto\n",
        "\n",
        "MATRÍCULAS DOS INTEGRANTES DO GRUPO:"
      ]
    },
    {
      "cell_type": "markdown",
      "metadata": {
        "id": "xDsxP3khToXi",
        "colab_type": "text"
      },
      "source": [
        "**AVISOS**:\n",
        "\n",
        "- **Mantenha a estrutura de enunciados e células de resposta da lista original na lista a ser entregue.**\n",
        "- **Todas as análises e justificativas solicitadas devem estar acompanhadas de códigos e plots realizados.**\n",
        "- **As listas deverão ser compartilhadas no e-mail nguerinjr@gmail.com .**"
      ]
    },
    {
      "cell_type": "markdown",
      "metadata": {
        "id": "LRDidH5uTsky",
        "colab_type": "text"
      },
      "source": [
        "# EXERCÍCIOS"
      ]
    },
    {
      "cell_type": "markdown",
      "metadata": {
        "id": "BYgtUdIxTz7I",
        "colab_type": "text"
      },
      "source": [
        "## EXERCÍCIO 1\n",
        "\n",
        "Refere-se aos exemplos de código apresentados em sala de aula."
      ]
    },
    {
      "cell_type": "markdown",
      "metadata": {
        "id": "_lHNEUf9T7V2",
        "colab_type": "text"
      },
      "source": [
        "### 1.1 \n"
      ]
    },
    {
      "cell_type": "markdown",
      "metadata": {
        "id": "h68sx73JX8GP",
        "colab_type": "text"
      },
      "source": [
        "\n",
        "Com o passar as iterações / experiências do agente, as correções aplicadas à função de valor tendem a cair. Nos exemplos, essa variação era denotada por um delta. Dessa maneira, pode ser mais interessante eficiente impor uma restrição com um delta, que denota a convergência do algoritmo, ao invés de obedecer cegamente ao número de iterações específicados.\n",
        "\n",
        "Faça uma versão do algoritmo de programação dinâmica e do de Monte Carlo que recebe um número desejado de iterações mas que tem como critério de convergência um delta, testado com relação a limiar de parada. Rode experimentos variando o limiar de delta e exiba os resultados da política greedy obtida."
      ]
    },
    {
      "cell_type": "code",
      "metadata": {
        "id": "q-JMlM5gTC6g",
        "colab_type": "code",
        "colab": {}
      },
      "source": [
        "# Células de código aqui"
      ],
      "execution_count": 0,
      "outputs": []
    },
    {
      "cell_type": "code",
      "metadata": {
        "id": "eUIRT6oww07Q",
        "colab_type": "code",
        "colab": {}
      },
      "source": [
        "import numpy as np\n",
        "from tqdm import tqdm\n",
        "import matplotlib.pyplot as plt\n",
        "import random"
      ],
      "execution_count": 0,
      "outputs": []
    },
    {
      "cell_type": "markdown",
      "metadata": {
        "id": "VG59f7SsxQ74",
        "colab_type": "text"
      },
      "source": [
        "1 - Policy Evaluation"
      ]
    },
    {
      "cell_type": "code",
      "metadata": {
        "id": "sZnTFgzBw16l",
        "colab_type": "code",
        "colab": {}
      },
      "source": [
        "gamma = 1\n",
        "reward_value = -1 # Exceto nos estados terminais\n",
        "grid_size = 4\n",
        "terminal_states = [[0,0], [grid_size-1, grid_size-1]] # Estados terminais nas pontas do grid\n",
        "actions = [[-1, 0], [1, 0], [0, 1], [0, -1]] # Deslocamento das ações: baixo, cima, direita, esquerda\n",
        "iterations = 1000"
      ],
      "execution_count": 0,
      "outputs": []
    },
    {
      "cell_type": "code",
      "metadata": {
        "id": "7c8WJUmbxWoX",
        "colab_type": "code",
        "colab": {}
      },
      "source": [
        "def actionRewardFunction(init_positions, action):\n",
        "    \n",
        "    # Caso esteja no estado terminal, a recompensa é 0\n",
        "    if init_positions in terminal_states:\n",
        "        return init_positions, 0\n",
        "    \n",
        "    reward = reward_value\n",
        "    # Calcula a nova posição\n",
        "    final_positions = np.array(init_positions) + np.array(action)\n",
        "    # Se a nova posição tira o agente do grid, ele retorna ao estado anterior\n",
        "    if -1 in final_positions or 4 in final_positions: \n",
        "        final_positions = init_positions\n",
        "    \n",
        "    return final_positions, reward"
      ],
      "execution_count": 0,
      "outputs": []
    },
    {
      "cell_type": "code",
      "metadata": {
        "id": "Zq-QKc3ZxZN1",
        "colab_type": "code",
        "colab": {}
      },
      "source": [
        "value_map = np.zeros((grid_size, grid_size))\n",
        "states = [[i, j] for i in range(grid_size) for j in range(grid_size)]"
      ],
      "execution_count": 0,
      "outputs": []
    },
    {
      "cell_type": "code",
      "metadata": {
        "id": "8Ei1M5kQxcC6",
        "colab_type": "code",
        "colab": {
          "base_uri": "https://localhost:8080/",
          "height": 34
        },
        "outputId": "ca6d838d-4b7c-4ecb-e4bb-04b153d31ae7"
      },
      "source": [
        "deltas = []\n",
        "\n",
        "for it in range(iterations):\n",
        "\n",
        "    if(len(deltas)>0 and np.mean(deltas[-1])==0.0):\n",
        "      print('numero interacao',it) \n",
        "      break\n",
        "\n",
        "    copyvalue_map = np.copy(value_map)\n",
        "    deltaState = []\n",
        "    for state in states:\n",
        "        weightedRewards = 0\n",
        "        for action in actions:\n",
        "            final_positions, reward = actionRewardFunction(state, action)\n",
        "            # 1/len(actions) porque a política é uma distribuição uniforme\n",
        "            weightedRewards += (1/len(actions)) * (reward + gamma * value_map[final_positions[0], final_positions[1]])\n",
        "        # Pode ser utilizado para verificar o quanto há de mudança nos backups da policy iteration\n",
        "       \n",
        "        deltaState.append(np.abs(copyvalue_map[state[0], state[1]] - weightedRewards))\n",
        "        copyvalue_map[state[0], state[1]] = weightedRewards\n",
        "   \n",
        "    deltas.append(deltaState)\n",
        "    value_map = copyvalue_map\n",
        "\n"
      ],
      "execution_count": 75,
      "outputs": [
        {
          "output_type": "stream",
          "text": [
            "numero interacao 634\n"
          ],
          "name": "stdout"
        }
      ]
    },
    {
      "cell_type": "code",
      "metadata": {
        "id": "TUkcwaH5xfwW",
        "colab_type": "code",
        "colab": {
          "base_uri": "https://localhost:8080/",
          "height": 609
        },
        "outputId": "8408d3df-312b-4504-ff83-3656afc96172"
      },
      "source": [
        "plt.figure(figsize=(20, 10))\n",
        "mean_delta = np.mean(deltas, axis=1)\n",
        "plt.plot(mean_delta)\n"
      ],
      "execution_count": 76,
      "outputs": [
        {
          "output_type": "execute_result",
          "data": {
            "text/plain": [
              "[<matplotlib.lines.Line2D at 0x7f7718b3b828>]"
            ]
          },
          "metadata": {
            "tags": []
          },
          "execution_count": 76
        },
        {
          "output_type": "display_data",
          "data": {
            "image/png": "[encoded data removed]",
            "text/plain": [
              "<Figure size 1440x720 with 1 Axes>"
            ]
          },
          "metadata": {
            "tags": []
          }
        }
      ]
    },
    {
      "cell_type": "markdown",
      "metadata": {
        "id": "PoGlR0Yz4PmJ",
        "colab_type": "text"
      },
      "source": [
        "Exemplo 2 - Monte Carlo"
      ]
    },
    {
      "cell_type": "code",
      "metadata": {
        "id": "ENW8EKkUyiWb",
        "colab_type": "code",
        "colab": {}
      },
      "source": [
        "gamma = 0.6\n",
        "reward_value = -1\n",
        "grid_size = 4\n",
        "terminal_states = [[0,0], [grid_size-1, grid_size-1]]\n",
        "actions = [[-1, 0], [1, 0], [0, 1], [0, -1]]\n",
        "iterations = 10000"
      ],
      "execution_count": 0,
      "outputs": []
    },
    {
      "cell_type": "code",
      "metadata": {
        "id": "g0ugcHs94WJt",
        "colab_type": "code",
        "colab": {}
      },
      "source": [
        "V = np.zeros((grid_size, grid_size))\n",
        "returns = {(i, j):list() for i in range(grid_size) for j in range(grid_size)}\n",
        "deltas = {(i, j):list() for i in range(grid_size) for j in range(grid_size)}\n",
        "states = [[i, j] for i in range(grid_size) for j in range(grid_size)]"
      ],
      "execution_count": 0,
      "outputs": []
    },
    {
      "cell_type": "code",
      "metadata": {
        "id": "8J1KLfVi4Yd7",
        "colab_type": "code",
        "colab": {}
      },
      "source": [
        "def generateEpisode():\n",
        "    init_state = random.choice(states[1:-1])\n",
        "    episode = []\n",
        "    while True:\n",
        "        if list(init_state) in terminal_states:\n",
        "            return episode\n",
        "        action = random.choice(actions)\n",
        "        final_state = np.array(init_state) + np.array(action)\n",
        "        if -1 in list(final_state) or grid_size in list(final_state):\n",
        "            final_state = init_state\n",
        "        episode.append([list(init_state), action, reward_value, list(final_state)])\n",
        "        init_state = final_state"
      ],
      "execution_count": 0,
      "outputs": []
    },
    {
      "cell_type": "code",
      "metadata": {
        "id": "-FDQ9rTN4azb",
        "colab_type": "code",
        "colab": {
          "base_uri": "https://localhost:8080/",
          "height": 731
        },
        "outputId": "43bd151c-3a63-4140-d397-12db3430d629"
      },
      "source": [
        "for it in range(iterations):\n",
        "    episode = generateEpisode()\n",
        "    G = 0\n",
        "\n",
        "    episode = episode[::-1]\n",
        "    for i, (initial_position, action, reward, final_position) in enumerate(episode):\n",
        "        G = gamma * G + reward # Usa a propriedade recursiva do horizonte descontado\n",
        "        # First-visit MC: só considera o retorno obtido se o estado não foi visitado\n",
        "        # Every-visit MC: considera todos os retornos obtidos em visitas a um único estado\n",
        "        if initial_position not in [x[0] for x in episode[len(episode)-i:]]:\n",
        "            idx = tuple(initial_position)\n",
        "            # Returns vai guardar o horizonte para este estado naquele momento\n",
        "            returns[idx].append(G)\n",
        "            new_value = np.average(returns[idx])\n",
        "            deltas[idx].append(np.abs(V[idx] - new_value))\n",
        "            V[idx] = new_value"
      ],
      "execution_count": 87,
      "outputs": [
        {
          "output_type": "stream",
          "text": [
            "\n",
            "Iteration 0\n",
            "[[0. 0. 0. 0.]\n",
            " [0. 0. 0. 0.]\n",
            " [0. 0. 0. 0.]\n",
            " [0. 0. 0. 0.]]\n",
            "\n",
            "\n",
            "Iteration 1\n",
            "[[ 0.  -1.  -1.6  0. ]\n",
            " [ 0.   0.   0.   0. ]\n",
            " [ 0.   0.   0.   0. ]\n",
            " [ 0.   0.   0.   0. ]]\n",
            "\n",
            "\n",
            "Iteration 2\n",
            "[[ 0.         -1.         -1.6         0.        ]\n",
            " [-2.49455804  0.          0.          0.        ]\n",
            " [ 0.          0.          0.          0.        ]\n",
            " [ 0.         -2.17312    -1.676672    0.        ]]\n",
            "\n",
            "\n",
            "Iteration 9\n",
            "[[ 0.         -1.7399223  -2.18721166 -2.49673483]\n",
            " [-1.77346389 -2.05070795 -2.43448751 -2.2408    ]\n",
            " [-2.0968     -2.269744   -2.34518873 -1.52      ]\n",
            " [-2.28147712 -2.12373094 -1.86231931  0.        ]]\n",
            "\n",
            "\n",
            "Iteration 99\n",
            "[[ 0.         -1.62163983 -2.19290069 -2.41177133]\n",
            " [-1.56073398 -2.09556414 -2.24803525 -2.16340347]\n",
            " [-2.20996686 -2.21191418 -2.16150378 -1.55189823]\n",
            " [-2.39363454 -2.04251815 -1.50620904  0.        ]]\n",
            "\n",
            "\n",
            "Iteration 9999\n",
            "[[ 0.         -1.63956858 -2.21291798 -2.3734143 ]\n",
            " [-1.63256777 -2.09641562 -2.28140916 -2.21620692]\n",
            " [-2.20540915 -2.27980213 -2.10518791 -1.65125987]\n",
            " [-2.37279971 -2.20732153 -1.618178    0.        ]]\n",
            "\n"
          ],
          "name": "stdout"
        }
      ]
    },
    {
      "cell_type": "code",
      "metadata": {
        "id": "-jAtnJwx4eRz",
        "colab_type": "code",
        "colab": {
          "base_uri": "https://localhost:8080/",
          "height": 34
        },
        "outputId": "a696cadc-63a0-4fd1-caf9-a63efd7c76cf"
      },
      "source": [
        "all_series = [list(x)[:50] for x in deltas.values()]\n",
        "\n",
        "len(all_series[-2])\n"
      ],
      "execution_count": 102,
      "outputs": [
        {
          "output_type": "execute_result",
          "data": {
            "text/plain": [
              "50"
            ]
          },
          "metadata": {
            "tags": []
          },
          "execution_count": 102
        }
      ]
    },
    {
      "cell_type": "code",
      "metadata": {
        "id": "HReqld3m7UHF",
        "colab_type": "code",
        "colab": {
          "base_uri": "https://localhost:8080/",
          "height": 884
        },
        "outputId": "9f4ce863-ac21-48e7-cce4-e025378e3376"
      },
      "source": [
        "plt.figure(figsize=(20,10))\n",
        "all_series = [list(x)[:50] for x in deltas.values()]\n",
        "for series in all_series:\n",
        "    print(series)\n",
        "    plt.plot(series)"
      ],
      "execution_count": 96,
      "outputs": [
        {
          "output_type": "stream",
          "text": [
            "[]\n",
            "[1.0, 0.7374028799999999, 0.24916019199999995, 0.246640768, 0.0440155391999999, 0.1306563072, 0.09332593371428577, 0.005005549714286017, 0.04389320533333341, 0.06088543573333327, 0.06887555258181832, 0.05140370618181822, 0.07173847137673839, 0.06154609272584444, 0.05337129269470342, 0.046728092206939964, 0.04698968923554281, 0.04176861265381571, 0.013154399204480693, 0.02263895928403259, 0.026654296495077112, 0.029886451359161015, 0.034886979193809564, 0.017020269072341332, 0.02084264754655396, 0.030976017649334775, 0.0064592756012358254, 0.006859244084566507, 0.026717255507472393, 0.02493610514030764, 0.003972485453836105, 0.0224742051129716, 0.021112132075821632, 0.01987024195371445, 0.01873479955635937, 0.017693977358783863, 0.00920839979574506, 0.014407957701232155, 0.016484758078318063, 0.008339479825597573, 0.02073471144386141, 0.015607023767751249, 0.0009276273134373181, 0.014521826071917321, 0.013876411579832215, 0.013273089337230815, 0.012312999570736727, 0.012700042078044538, 6.322494554944491e-05, 0.007260695947727269]\n",
            "[1.6, 0.28800000000000003, 0.2033469652991997, 0.09586469867520009, 0.002242332794879953, 0.020105111470079873, 0.0254693653357716, 0.032548283201828454, 0.013363100979200127, 0.01983505678335984, 0.017144837004567037, 0.05945292382952694, 0.009952141375015433, 0.04742387882141541, 0.016099945021439854, 0.01513721189376005, 0.00797720108272948, 0.004429154593128981, 0.012294096206147298, 0.033179486214467424, 0.012876678003565623, 0.004003019996758006, 0.0019798513073072677, 0.003585136301634595, 0.00827496539750383, 0.01043910886384225, 0.003134158459404901, 0.0017182814305520822, 0.0090480551249974, 0.020444851449997525, 0.0005451836145131672, 0.005968890361393697, 0.007869248521309213, 0.0029237162553492624, 0.0009462103878128403, 0.0027063568559544393, 0.00772587341768638, 0.0073742408968224815, 0.004035445529330772, 0.001350326747135977, 0.001876518460041332, 0.015012839561865388, 0.005942474931080799, 0.006027768474877071, 0.005983816453771773, 0.0059339676549119424, 0.005604267530022078, 0.013190286817061914, 0.005304968987794201, 0.0007727702282824822]\n",
            "[2.4967348264959996, 0.16036741324799975, 0.010255804415999936, 0.005127902207999746, 0.030764410675199638, 0.022189223116799717, 0.01723152910628567, 0.013195744621714578, 0.010408475750399937, 0.008405144764416228, 0.0006216150310165425, 0.0028508125258470685, 0.03589620478582134, 0.0005281755307042779, 0.005641752126610111, 0.004936533110784236, 0.004355764509515581, 0.003040209324875587, 0.004193534659098663, 0.0046139891931895605, 0.004942386108123031, 0.004657986032839734, 0.004347586479375387, 0.0040397071644937554, 0.003747876256972482, 0.003477662121228242, 0.003230506074868078, 0.003011604302560311, 0.002285799176901193, 0.0012507026348922423, 0.007859044400383208, 0.00265510920264056, 0.013770498218610427, 0.002795763029280085, 0.0017185548581073462, 0.0026987803242120023, 0.002588199479703679, 0.011706992490217338, 0.005568172362514279, 0.0017604762556127085, 0.002084261804117915, 0.0022249563848748544, 0.0022620890553457507, 0.0022417207019205243, 0.004936978977275519, 0.00941797989130766, 0.0015787341466206861, 0.008862246442821853, 0.0010916411670889303, 0.0019437707204059684]\n",
            "[2.4945580441599997, 0.7472790220799999, 0.24586814463999995, 0.008286791680000016, 0.19697207500799996, 0.11448624332800006, 0.12891064905142846, 0.09668298678857146, 0.07519787861333338, 0.07040169710933353, 0.06891193399854534, 0.061741388334545455, 0.0060888670523076005, 0.048076171759120934, 0.04166601552457139, 0.03645776358400021, 0.0321686149270588, 0.02859432437960785, 0.005994551870877274, 0.02460490331621057, 0.02226157919085714, 0.023398564371948094, 0.02037522383430823, 0.04277295148521709, 0.03999608791039999, 0.020423998605784588, 0.016644445735384705, 0.018830157531428693, 0.003158129194877013, 0.01705241275144842, 0.003402581619613043, 0.027669920268387216, 0.027406773585454625, 0.011970610433369, 0.016141995877109183, 0.0014214483382857246, 0.025580689684756797, 0.015153420995914768, 0.01437632248330356, 0.01365750635913865, 0.01299128653674142, 0.02234186044119868, 0.012604495858391962, 0.0016047994078982608, 0.011799858343563674, 0.021318562890178416, 0.020221654119000343, 0.011681958002624837, 0.019340465313727462, 0.018592968089210293]\n",
            "[1.6, 0.42900479999999996, 0.15397509119999997, 0.1457449728000002, 0.027753016320000157, 0.07749798912000005, 0.06321800777142861, 0.056338494171428666, 0.02018117120000018, 0.041455063039999906, 0.03729676660363612, 0.03730143883636394, 0.006745674830769488, 0.009646564430769722, 0.030039644159999934, 0.029891844956159375, 0.019583125694343284, 0.02338333803941639, 0.02122744734558335, 0.019209188163152646, 0.0254214267827928, 0.006746751620720914, 0.015492513737602298, 0.021548929073864187, 0.0054250147479550925, 0.015552218854195221, 0.018731576770560032, 0.017393607001233935, 0.01619404789770096, 0.015114444704520835, 0.012635390437706562, 0.014092321464651114, 0.013271024078661764, 0.01296462012109334, 0.013231360274397641, 0.0035037152964023655, 0.011924002149569901, 0.0029133166638026786, 0.00808083888617217, 0.009543036941863647, 0.009732982847138416, 0.01179914624082068, 0.0021450000959615245, 0.011043408999309445, 0.0025525908215620063, 0.010267695568451085, 0.009830772352771966, 0.006898843161927015, 0.007569420992052489, 0.004778324152369784]\n",
            "[2.4300159999999997, 0.03227102208000021, 0.02630900736000008, 0.0014905036799999216, 0.025777502207999792, 0.07478500147200018, 0.007062141805714184, 0.020623393645714305, 0.04004041727999974, 0.014969266175999696, 0.012247581416727105, 0.028961682152726986, 0.008060115101538479, 0.023331329912966936, 0.005820485924571628, 0.005092925183999952, 0.0077038895435297405, 0.006847901816470436, 0.010055996362104747, 0.0014299167258946532, 0.004996591323428667, 0.014701280615065038, 0.01342290838766802, 0.0020956673113050606, 0.0032559860735998924, 0.00496985900898439, 0.01107827869538447, 0.0025726873599998257, 0.004755084182068714, 0.006926398569931269, 0.007541484907354512, 0.009521422699354964, 0.0015283604945453, 0.00237330776983935, 0.0014651669598655381, 0.004839768795428245, 0.005788693725405469, 0.005908349676699842, 0.0040434580625099414, 0.005364136999384872, 0.0025787495274145478, 0.002481190926271637, 0.007479794698205922, 0.002230713121015082, 0.0007484296843638383, 0.0067971542149565245, 0.0008452778792968907, 0.0034020579676599105, 0.006328964806530557, 0.0023913937857305]\n",
            "[2.176, 0.06479999999999997, 0.2136, 0.01680000000000037, 0.07459199999999999, 0.02083199999999996, 0.015977142857142912, 0.04723405714285711, 0.0054032000000003855, 0.017282559999999503, 0.0254508218181817, 0.023541818181818552, 0.023059610579889256, 0.04443637218427776, 0.014511522559707224, 0.0008024177602559135, 0.0007080156708143548, 0.007829347262945596, 0.030131636659469496, 0.0016815270064776122, 0.02590718985128193, 0.002629827407925056, 0.0069901575840680685, 0.011232355547936557, 0.0072233671041024294, 0.01317563732686411, 0.012796860991540093, 0.012012369869287998, 0.0001991704245090098, 0.00018589239620858677, 0.018406745822901804, 0.010807453787829768, 0.00039364156136745265, 0.009158890881286741, 0.008923459859499161, 0.008696450649526621, 0.00038330463315006114, 0.01552102544193179, 4.415534996216053e-05, 0.0052259475824638635, 0.006791745261367943, 0.007440113047459285, 0.005436741920761712, 0.005189617287999493, 0.01295896763075488, 0.004569447298983231, 0.004632656841399463, 0.005411629473008439, 0.011748355403441657, 0.004078421187304393]\n",
            "[2.3056, 0.3528, 0.07440000000000002, 0.06959999999999988, 0.09936000000000011, 0.02976000000000023, 0.061028571428571654, 0.04577142857142835, 0.06426939305983992, 0.051517826700515634, 0.0396533836145776, 0.0030444863454814897, 0.002576103830791876, 0.027922374712107567, 0.034792838982840246, 0.03104839586998498, 0.02770679729145753, 0.020748727588795646, 0.006173033210024936, 0.011724270110977209, 0.01914498038612278, 0.018002593073638717, 0.011451024289078848, 0.0018567722649884821, 0.014063568723789555, 0.013214317960421162, 0.012568017461093817, 0.011671607699029973, 0.010867425683601883, 0.0006559725144397177, 0.0060753805510076475, 0.008868277266569802, 0.01848384426473748, 0.008629424692012222, 0.008309075212468375, 0.007948236882886928, 0.007633913088637367, 0.0012632543775681349, 0.002124604821281295, 0.005128774580217321, 0.006364299566548048, 0.006199446084712346, 0.0059596976864129125, 0.0012973355747911697, 0.002967676215911208, 0.0038529076847844124, 0.013970960727333726, 0.0013888373636943285, 0.00476592661033326, 0.005039992263871973]\n",
            "[2.3056, 0.06220800000000004, 0.13593600000000006, 0.03787200000000013, 0.06194879999999969, 0.04129920000000009, 0.02949942857142851, 0.04348586057142789, 0.03489729023999999, 0.016798027776000257, 0.005107068183273, 0.004255890152727204, 0.019383920640000163, 0.02015705087999997, 0.005570555904000241, 0.016725763584000575, 0.014758026691764847, 0.0060817540517650315, 0.011989779941052436, 0.013030289946947438, 0.012725250047999737, 0.011568409134545377, 0.0044636264423711935, 0.010308342427825856, 0.00931696496640022, 0.00680581381513834, 0.009378320541538532, 0.008077845211428958, 0.008686695837635483, 0.009052609218207053, 0.009258536446810517, 0.008173082159963485, 0.005151347061853162, 0.00825817142654195, 0.0076221447270641285, 0.002401307757772475, 0.007069033202106834, 0.006696978823048649, 0.0068466036806973385, 0.002274129496663946, 0.002163196350483787, 0.006472807800460778, 0.006175464041421108, 0.001959784324098379, 0.0010073172014175569, 0.0018538705029924607, 0.005869469543239081, 0.0056510297003034005, 0.005429587214274001, 0.0028846817235366196]\n",
            "[2.4300159999999997, 0.023327999999999793, 0.017107199999999878, 0.017690711040000195, 0.09629718220799965, 0.02819812147200018, 0.10242722962285722, 0.02693157778285693, 0.025923422720000033, 0.011594162175999845, 0.009364776401454833, 0.015696819665454775, 0.05271881412923074, 0.0052124450320882865, 0.012811852361142684, 0.04066562918399974, 0.035881437515294046, 0.00010538887529421004, 0.011007979519999989, 0.011260818431999997, 0.015094024923428595, 0.02677498068779194, 0.012858043719841561, 0.012906284076521057, 0.023521556889599893, 0.02171220635963067, 0.0012294385558972998, 0.01942980705523789, 0.018089820361773423, 0.012612282862344948, 0.012110670682838887, 0.0166011851148391, 0.0018594927709090214, 0.001750110843208752, 0.0075746759378820805, 0.009227460608000282, 0.004609500575134984, 0.009339475391180407, 0.006009296033684386, 0.013875168767999657, 0.005908010196292501, 0.013024752194007228, 0.005798724652225751, 0.007231728077124799, 0.00779990229364369, 0.007503272619119983, 0.0030479049447573736, 0.005512908905392688, 0.0066050767900702745, 0.006449570683827677]\n",
            "[1.0, 0.30000000000000004, 0.2200000000000002, 0.13000000000000012, 0.07800000000000007, 0.052000000000000046, 0.16047999999999996, 0.05255999999999994, 0.04088000000000003, 0.032704000000000066, 0.02778763636363646, 0.026843636363636403, 0.023440000000000127, 0.08257755428571412, 0.07223906011428571, 0.06403151759359993, 0.031621654823152934, 0.028108137620580287, 0.025149386292098397, 0.007365552337111669, 0.023806928305005748, 0.021993701540903743, 0.020081205754738374, 0.021592228058156415, 0.018535150186495875, 0.017109369402919405, 0.006380213515815303, 0.018781626836114507, 0.015617106049135021, 0.01742403435414075, 0.03290654052484121, 0.015237798257961455, 0.003867522848581828, 0.014007037318981785, 0.014221936242102773, 0.01943182867309723, 0.027049968379848854, 0.02566065608095136, 0.014066580023138542, 0.0016367489780184652, 0.010337395369334645, 0.013012004410157818, 0.017955995794966206, 0.012532913104805088, 0.011975894744591598, 0.011455203668739644, 0.001798209253334182, 0.00922328386777882, 0.013254986567053262, 0.0153167871043709]\n",
            "[1.96, 0.1080000000000001, 0.10511999999999988, 0.06422399999999984, 0.04413311999999969, 0.05357951999999955, 0.038271085714285835, 0.028703314285714043, 0.0016752000000002099, 0.014300159999999895, 0.018769221818181858, 0.019529018181817737, 0.019969919999999863, 0.018268810971429073, 0.016074834212571165, 0.014201528831999877, 0.012607588345976861, 0.011276402231175542, 0.010104260469512294, 0.009102297752282773, 0.007527667294526363, 0.00711818015866017, 0.00675158853164648, 0.004575405050009085, 0.0018870113539914968, 0.004120051057853846, 0.004436942090605633, 0.006551616630152246, 0.0016308154832453958, 0.00355822554897145, 0.0038704742232309464, 0.003943497584279587, 0.0006280293670499759, 0.0019633217572239126, 0.002650949085382326, 0.0029702341361943496, 0.0017634477090053835, 0.00037568111778440993, 0.0015527231117444806, 0.00217492695615773, 0.002478495397320035, 0.002830764286971821, 0.002780097383801028, 0.002692483962053238, 0.0025750748961108627, 0.0024659976545282625, 0.0023612296118296072, 0.0022629437609476, 0.001313776823195223, 0.00159714895026708]\n",
            "[1.96, 0.1080000000000001, 0.10511999999999988, 0.14327999999999985, 0.09389094450462698, 0.08728849075077116, 0.062348921964836546, 0.0467616914736273, 0.0363702044794878, 0.02909616358359024, 0.0557218443406986, 0.046434870283915464, 0.035845677932543785, 0.012580866799323465, 0.010903417892746958, 0.017640490656153585, 0.00794160940248867, 0.02272640835776718, 0.024824245153576285, 0.022341820638218657, 0.020214028196483547, 0.01935161073046965, 0.01888597501477607, 0.019044111826623578, 0.017527353544271485, 0.018426523655608484, 0.011951737355918368, 0.01276432754478174, 0.010275201507210063, 0.012974303273395993, 0.016407376163596776, 0.00909808484662733, 0.0061903221286501164, 0.014926755643623224, 0.008307916107440416, 0.009142365212583048, 0.009858717363254055, 0.013681366708496068, 0.0017894726098885982, 0.009170142979394225, 0.006492434541374603, 0.007294128134642808, 0.012347831313480384, 0.0013043428371322108, 0.004126372044371163, 0.00665166021635466, 0.0009640151007657138, 0.0036238478049002154, 0.006015037690414449, 0.0036258838172025243]\n",
            "[1.0, 0.30000000000000004, 0.3766719999999999, 0.16916799999999999, 0.19784616529919985, 0.13211512176639983, 0.0944798929247086, 0.07095395669044668, 0.11143323740897282, 0.029146589927178113, 0.07839266448587301, 0.06532722040489425, 0.05527687880414134, 0.047380181832121115, 0.041062824254504804, 0.035929971222691925, 0.03170291578472817, 0.02818036958642489, 0.02531230089635672, 0.033581070806721014, 0.025617126412966762, 0.023288296739060854, 0.021263227457403167, 0.005508708164046805, 0.028108011510923347, 0.01928491245145536, 0.03337915513754108, 0.032661215484859785, 0.018902178686510007, 0.014357966559257473, 0.017536095799404183, 0.01644008981194167, 0.015443720732430055, 0.01453526657169868, 0.013704679910458761, 0.02677935786234431, 0.02654235905897462, 0.01366528510202425, 0.011650883364746178, 0.016468339196508808, 0.013017921252101106, 0.012398020240096397, 0.011821368135906063, 0.021216330415726237, 0.01150475093608394, 0.011004544373645508, 0.021309155950679948, 0.010760701099264747, 0.010321488809499346, 0.009291370742880778]\n",
            "[]\n"
          ],
          "name": "stdout"
        },
        {
          "output_type": "display_data",
          "data": {
            "image/png": "[encoded data removed]",
            "text/plain": [
              "<Figure size 1440x720 with 1 Axes>"
            ]
          },
          "metadata": {
            "tags": []
          }
        }
      ]
    },
    {
      "cell_type": "markdown",
      "metadata": {
        "id": "7OHS4WzUxUPY",
        "colab_type": "text"
      },
      "source": [
        ""
      ]
    },
    {
      "cell_type": "markdown",
      "metadata": {
        "id": "G6QOVUHnYAXu",
        "colab_type": "text"
      },
      "source": [
        "### 1.2"
      ]
    },
    {
      "cell_type": "markdown",
      "metadata": {
        "id": "4DH-PDLnVx8v",
        "colab_type": "text"
      },
      "source": [
        "Implemente no exemplo de TD(0) uma estratégia epsilon-greedy, ao invés de uma escolha aleatória de ações. Para decidir qual a ação greedy em um determinado momento, é necessário considerar a maior função de valor nas redondezas de um estado.\n",
        "\n",
        "Faça experimentos variando o epsilon. Compare os resultados da política greedy após 10, 100, 500 e 1000 episódios, em cada um dos cenários. \n",
        "\n",
        "Compare esses resultados com os resultados de uma política greedy após 10, 100, 500 e 1000 episódios considerando o código original de exemplo.\n",
        "\n",
        "Responda com base nos experimentos e plots apresentados: qual o impacto do fator de exploração do agente ao usar o TD(0)?"
      ]
    },
    {
      "cell_type": "code",
      "metadata": {
        "id": "RMQLGugPTE9a",
        "colab_type": "code",
        "colab": {}
      },
      "source": [
        "# Células de código aqui"
      ],
      "execution_count": 0,
      "outputs": []
    },
    {
      "cell_type": "markdown",
      "metadata": {
        "id": "7FYuOLq3ZHUe",
        "colab_type": "text"
      },
      "source": [
        "## EXERCÍCIO 2\n",
        "\n",
        "Diz respeito aos exemplos teóricos formulados em sala de aula."
      ]
    },
    {
      "cell_type": "markdown",
      "metadata": {
        "id": "baGQJNykZLQX",
        "colab_type": "text"
      },
      "source": [
        "### 2.1"
      ]
    },
    {
      "cell_type": "markdown",
      "metadata": {
        "id": "YlMb8m5UZMQR",
        "colab_type": "text"
      },
      "source": [
        "Implemente o Sarsa para o exemplo do grid com o vento apresentado em sala de aula (ver exemplo e explicações detalhadas no livro referência). \n",
        "\n",
        "Lembrese: a diferença do Sars é que ao invés de usar a função valor-estado (função v), utiliza-se a função de estado-ação (função Q).\n",
        "\n",
        "Implemente uma estratégia epsilon-greedy e escolha os hiperparâmetros de forma a haver convergência do agente. Faça o experimento com 50, 100 e 1000 e 10000 episódios. Observe a política greedy do agente após esse número de episódios.\n",
        "\n",
        "Responda com base nos experimentos e plots: o agente consegue chegar de maneira interessante ao objetivo?"
      ]
    },
    {
      "cell_type": "code",
      "metadata": {
        "id": "01zATcObTFwi",
        "colab_type": "code",
        "colab": {}
      },
      "source": [
        "# Células de código aqui"
      ],
      "execution_count": 0,
      "outputs": []
    },
    {
      "cell_type": "markdown",
      "metadata": {
        "id": "9IQ9qSovaeXv",
        "colab_type": "text"
      },
      "source": [
        "### 2.2"
      ]
    },
    {
      "cell_type": "markdown",
      "metadata": {
        "id": "zBkH_7z7af2W",
        "colab_type": "text"
      },
      "source": [
        "Utilize o algoritmo de Q-learning para o cenário 2.1. Há diferença na política greedy após 50, 100, 1000 e 10000 episódios com relação aos resultados obtidos em 2.1?"
      ]
    },
    {
      "cell_type": "code",
      "metadata": {
        "id": "e9axgTMdTGWR",
        "colab_type": "code",
        "colab": {}
      },
      "source": [
        "# Células de código aqui"
      ],
      "execution_count": 0,
      "outputs": []
    },
    {
      "cell_type": "markdown",
      "metadata": {
        "id": "qtB3RrIJd19t",
        "colab_type": "text"
      },
      "source": [
        "### 2.3"
      ]
    },
    {
      "cell_type": "markdown",
      "metadata": {
        "id": "063L1VbDd4P3",
        "colab_type": "text"
      },
      "source": [
        "Considere o melhor resultado de 2.1 como baseline de comparação.\n",
        "\n",
        "Implemente agora o Sars no cenário **Windy Gridworld with King's Moves**, conforme especificado no Exercício 6.9 do livro base.\n",
        "\n",
        "Esse cenário é o mesmo windy gridworld mas, dessa vez, há oito possíveis ações: as usuais e as ações nas diagonais.\n",
        "\n",
        "Compare os resultados no grid nas mesmas circunstâncias. Responda com base nos experimentos e plots: ter a disposição mais ações ajuda a acelerar a convergência do algoritmo?"
      ]
    },
    {
      "cell_type": "code",
      "metadata": {
        "id": "Be-d6GWgTG7f",
        "colab_type": "code",
        "colab": {}
      },
      "source": [
        "# Células de código aqui"
      ],
      "execution_count": 0,
      "outputs": []
    },
    {
      "cell_type": "markdown",
      "metadata": {
        "id": "WaBMgTxDfFjH",
        "colab_type": "text"
      },
      "source": [
        "### 2.4"
      ]
    },
    {
      "cell_type": "markdown",
      "metadata": {
        "id": "JcAGWFPwfGBZ",
        "colab_type": "text"
      },
      "source": [
        "Considere o algoritmo de Q-learning. Dessa vez modele um cenário de **Stochastic Windy Gridworld** conforme apresentado no exerício 6.10 do livro base.\n",
        "\n",
        "Nesse cenário, o vento, ao invés de ter um impacto definido deterministicamente, tem um comportamento estocástico: pode mover o agente 1 célula para cima, 2 células para cima ou 1 célula para baixo. Cada uma dessas situações tem uma probabilidade 1/3 de acontecer.\n",
        "\n",
        "Por exemplo, se você está á direita do estado objetivo e escolhe a ação \"esquerda\", em 1/3 das vezes você terminará uma célula acima do objetivo, em 1/3 das vezes você terminará duas células acima do objetivo e em 1/3 das vezes você terminará 1 célula abaixo do objetivo."
      ]
    },
    {
      "cell_type": "code",
      "metadata": {
        "id": "DfZJx9L9THiJ",
        "colab_type": "code",
        "colab": {}
      },
      "source": [
        "# Células de código aqui"
      ],
      "execution_count": 0,
      "outputs": []
    },
    {
      "cell_type": "markdown",
      "metadata": {
        "id": "pZSCIgPUasub",
        "colab_type": "text"
      },
      "source": [
        "### 2.5"
      ]
    },
    {
      "cell_type": "markdown",
      "metadata": {
        "id": "y4eP-iYxauBa",
        "colab_type": "text"
      },
      "source": [
        "Implemente o cenário do \"The Cliff\", apresentado em sala de aula. Utilize tanto o Sars quanto o Q-learning. Faça comparações dos resultados com a política greedy do agente após 100, 1000 e 10000 episódios.\n",
        "\n",
        "OBS.: utilize uma estratégia epsilon-greedy para a dinâmica do agente. Especifique hiperparâmetros de forma a conseguir convergência do algoritmo."
      ]
    },
    {
      "cell_type": "code",
      "metadata": {
        "id": "ZVA177vrTIKy",
        "colab_type": "code",
        "colab": {}
      },
      "source": [
        "# Células de código aqui"
      ],
      "execution_count": 0,
      "outputs": []
    },
    {
      "cell_type": "markdown",
      "metadata": {
        "id": "XAxt9khQSjTJ",
        "colab_type": "text"
      },
      "source": [
        "# Exercício 3 <EM CONSTRUÇÃO>\n",
        "\n",
        "Uso de modelos de aprendizado por reforço profundo."
      ]
    },
    {
      "cell_type": "markdown",
      "metadata": {
        "id": "V11qeuJwSlQ-",
        "colab_type": "text"
      },
      "source": [
        "# Exercício 4 <EM CONSTRUÇÃO>\n",
        "\n",
        "Experimentos com autoencoders."
      ]
    }
  ]
}